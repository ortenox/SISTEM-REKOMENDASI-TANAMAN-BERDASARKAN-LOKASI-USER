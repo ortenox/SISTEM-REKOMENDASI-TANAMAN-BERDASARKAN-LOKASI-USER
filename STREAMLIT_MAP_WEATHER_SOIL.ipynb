{
  "nbformat": 4,
  "nbformat_minor": 0,
  "metadata": {
    "colab": {
      "provenance": []
    },
    "kernelspec": {
      "name": "python3",
      "display_name": "Python 3"
    },
    "language_info": {
      "name": "python"
    }
  },
  "cells": [
    {
      "cell_type": "code",
      "execution_count": 8,
      "metadata": {
        "colab": {
          "base_uri": "https://localhost:8080/"
        },
        "id": "3CDIM-PObPL3",
        "outputId": "907b8957-292a-4881-ec8d-e3525ac343ff"
      },
      "outputs": [
        {
          "output_type": "stream",
          "name": "stdout",
          "text": [
            "Requirement already satisfied: streamlit in /usr/local/lib/python3.11/dist-packages (1.45.1)\n",
            "Requirement already satisfied: pyngrok in /usr/local/lib/python3.11/dist-packages (7.2.9)\n",
            "Requirement already satisfied: openai in /usr/local/lib/python3.11/dist-packages (1.81.0)\n",
            "Requirement already satisfied: requests in /usr/local/lib/python3.11/dist-packages (2.32.3)\n",
            "Requirement already satisfied: altair<6,>=4.0 in /usr/local/lib/python3.11/dist-packages (from streamlit) (5.5.0)\n",
            "Requirement already satisfied: blinker<2,>=1.5.0 in /usr/local/lib/python3.11/dist-packages (from streamlit) (1.9.0)\n",
            "Requirement already satisfied: cachetools<6,>=4.0 in /usr/local/lib/python3.11/dist-packages (from streamlit) (5.5.2)\n",
            "Requirement already satisfied: click<9,>=7.0 in /usr/local/lib/python3.11/dist-packages (from streamlit) (8.2.1)\n",
            "Requirement already satisfied: numpy<3,>=1.23 in /usr/local/lib/python3.11/dist-packages (from streamlit) (2.0.2)\n",
            "Requirement already satisfied: packaging<25,>=20 in /usr/local/lib/python3.11/dist-packages (from streamlit) (24.2)\n",
            "Requirement already satisfied: pandas<3,>=1.4.0 in /usr/local/lib/python3.11/dist-packages (from streamlit) (2.2.2)\n",
            "Requirement already satisfied: pillow<12,>=7.1.0 in /usr/local/lib/python3.11/dist-packages (from streamlit) (11.2.1)\n",
            "Requirement already satisfied: protobuf<7,>=3.20 in /usr/local/lib/python3.11/dist-packages (from streamlit) (5.29.4)\n",
            "Requirement already satisfied: pyarrow>=7.0 in /usr/local/lib/python3.11/dist-packages (from streamlit) (18.1.0)\n",
            "Requirement already satisfied: tenacity<10,>=8.1.0 in /usr/local/lib/python3.11/dist-packages (from streamlit) (9.1.2)\n",
            "Requirement already satisfied: toml<2,>=0.10.1 in /usr/local/lib/python3.11/dist-packages (from streamlit) (0.10.2)\n",
            "Requirement already satisfied: typing-extensions<5,>=4.4.0 in /usr/local/lib/python3.11/dist-packages (from streamlit) (4.13.2)\n",
            "Requirement already satisfied: watchdog<7,>=2.1.5 in /usr/local/lib/python3.11/dist-packages (from streamlit) (6.0.0)\n",
            "Requirement already satisfied: gitpython!=3.1.19,<4,>=3.0.7 in /usr/local/lib/python3.11/dist-packages (from streamlit) (3.1.44)\n",
            "Requirement already satisfied: pydeck<1,>=0.8.0b4 in /usr/local/lib/python3.11/dist-packages (from streamlit) (0.9.1)\n",
            "Requirement already satisfied: tornado<7,>=6.0.3 in /usr/local/lib/python3.11/dist-packages (from streamlit) (6.4.2)\n",
            "Requirement already satisfied: PyYAML>=5.1 in /usr/local/lib/python3.11/dist-packages (from pyngrok) (6.0.2)\n",
            "Requirement already satisfied: anyio<5,>=3.5.0 in /usr/local/lib/python3.11/dist-packages (from openai) (4.9.0)\n",
            "Requirement already satisfied: distro<2,>=1.7.0 in /usr/local/lib/python3.11/dist-packages (from openai) (1.9.0)\n",
            "Requirement already satisfied: httpx<1,>=0.23.0 in /usr/local/lib/python3.11/dist-packages (from openai) (0.28.1)\n",
            "Requirement already satisfied: jiter<1,>=0.4.0 in /usr/local/lib/python3.11/dist-packages (from openai) (0.10.0)\n",
            "Requirement already satisfied: pydantic<3,>=1.9.0 in /usr/local/lib/python3.11/dist-packages (from openai) (2.11.4)\n",
            "Requirement already satisfied: sniffio in /usr/local/lib/python3.11/dist-packages (from openai) (1.3.1)\n",
            "Requirement already satisfied: tqdm>4 in /usr/local/lib/python3.11/dist-packages (from openai) (4.67.1)\n",
            "Requirement already satisfied: charset-normalizer<4,>=2 in /usr/local/lib/python3.11/dist-packages (from requests) (3.4.2)\n",
            "Requirement already satisfied: idna<4,>=2.5 in /usr/local/lib/python3.11/dist-packages (from requests) (3.10)\n",
            "Requirement already satisfied: urllib3<3,>=1.21.1 in /usr/local/lib/python3.11/dist-packages (from requests) (2.4.0)\n",
            "Requirement already satisfied: certifi>=2017.4.17 in /usr/local/lib/python3.11/dist-packages (from requests) (2025.4.26)\n",
            "Requirement already satisfied: jinja2 in /usr/local/lib/python3.11/dist-packages (from altair<6,>=4.0->streamlit) (3.1.6)\n",
            "Requirement already satisfied: jsonschema>=3.0 in /usr/local/lib/python3.11/dist-packages (from altair<6,>=4.0->streamlit) (4.23.0)\n",
            "Requirement already satisfied: narwhals>=1.14.2 in /usr/local/lib/python3.11/dist-packages (from altair<6,>=4.0->streamlit) (1.40.0)\n",
            "Requirement already satisfied: gitdb<5,>=4.0.1 in /usr/local/lib/python3.11/dist-packages (from gitpython!=3.1.19,<4,>=3.0.7->streamlit) (4.0.12)\n",
            "Requirement already satisfied: httpcore==1.* in /usr/local/lib/python3.11/dist-packages (from httpx<1,>=0.23.0->openai) (1.0.9)\n",
            "Requirement already satisfied: h11>=0.16 in /usr/local/lib/python3.11/dist-packages (from httpcore==1.*->httpx<1,>=0.23.0->openai) (0.16.0)\n",
            "Requirement already satisfied: python-dateutil>=2.8.2 in /usr/local/lib/python3.11/dist-packages (from pandas<3,>=1.4.0->streamlit) (2.9.0.post0)\n",
            "Requirement already satisfied: pytz>=2020.1 in /usr/local/lib/python3.11/dist-packages (from pandas<3,>=1.4.0->streamlit) (2025.2)\n",
            "Requirement already satisfied: tzdata>=2022.7 in /usr/local/lib/python3.11/dist-packages (from pandas<3,>=1.4.0->streamlit) (2025.2)\n",
            "Requirement already satisfied: annotated-types>=0.6.0 in /usr/local/lib/python3.11/dist-packages (from pydantic<3,>=1.9.0->openai) (0.7.0)\n",
            "Requirement already satisfied: pydantic-core==2.33.2 in /usr/local/lib/python3.11/dist-packages (from pydantic<3,>=1.9.0->openai) (2.33.2)\n",
            "Requirement already satisfied: typing-inspection>=0.4.0 in /usr/local/lib/python3.11/dist-packages (from pydantic<3,>=1.9.0->openai) (0.4.1)\n",
            "Requirement already satisfied: smmap<6,>=3.0.1 in /usr/local/lib/python3.11/dist-packages (from gitdb<5,>=4.0.1->gitpython!=3.1.19,<4,>=3.0.7->streamlit) (5.0.2)\n",
            "Requirement already satisfied: MarkupSafe>=2.0 in /usr/local/lib/python3.11/dist-packages (from jinja2->altair<6,>=4.0->streamlit) (3.0.2)\n",
            "Requirement already satisfied: attrs>=22.2.0 in /usr/local/lib/python3.11/dist-packages (from jsonschema>=3.0->altair<6,>=4.0->streamlit) (25.3.0)\n",
            "Requirement already satisfied: jsonschema-specifications>=2023.03.6 in /usr/local/lib/python3.11/dist-packages (from jsonschema>=3.0->altair<6,>=4.0->streamlit) (2025.4.1)\n",
            "Requirement already satisfied: referencing>=0.28.4 in /usr/local/lib/python3.11/dist-packages (from jsonschema>=3.0->altair<6,>=4.0->streamlit) (0.36.2)\n",
            "Requirement already satisfied: rpds-py>=0.7.1 in /usr/local/lib/python3.11/dist-packages (from jsonschema>=3.0->altair<6,>=4.0->streamlit) (0.25.1)\n",
            "Requirement already satisfied: six>=1.5 in /usr/local/lib/python3.11/dist-packages (from python-dateutil>=2.8.2->pandas<3,>=1.4.0->streamlit) (1.17.0)\n"
          ]
        }
      ],
      "source": [
        "!pip install streamlit pyngrok openai requests"
      ]
    },
    {
      "cell_type": "code",
      "source": [
        "!pip install streamlit pyngrok streamlit-folium folium geopy requests -q"
      ],
      "metadata": {
        "id": "EptOuYOFYejg"
      },
      "execution_count": 9,
      "outputs": []
    },
    {
      "cell_type": "code",
      "source": [
        "!pip install streamlit-folium folium\n"
      ],
      "metadata": {
        "colab": {
          "base_uri": "https://localhost:8080/"
        },
        "id": "_WdCD9hehN7J",
        "outputId": "9dad2a31-3951-4cce-be91-83d0e69fedd2"
      },
      "execution_count": 10,
      "outputs": [
        {
          "output_type": "stream",
          "name": "stdout",
          "text": [
            "Requirement already satisfied: streamlit-folium in /usr/local/lib/python3.11/dist-packages (0.25.0)\n",
            "Requirement already satisfied: folium in /usr/local/lib/python3.11/dist-packages (0.19.6)\n",
            "Requirement already satisfied: streamlit>=1.35.0 in /usr/local/lib/python3.11/dist-packages (from streamlit-folium) (1.45.1)\n",
            "Requirement already satisfied: jinja2 in /usr/local/lib/python3.11/dist-packages (from streamlit-folium) (3.1.6)\n",
            "Requirement already satisfied: branca in /usr/local/lib/python3.11/dist-packages (from streamlit-folium) (0.8.1)\n",
            "Requirement already satisfied: numpy in /usr/local/lib/python3.11/dist-packages (from folium) (2.0.2)\n",
            "Requirement already satisfied: requests in /usr/local/lib/python3.11/dist-packages (from folium) (2.32.3)\n",
            "Requirement already satisfied: xyzservices in /usr/local/lib/python3.11/dist-packages (from folium) (2025.4.0)\n",
            "Requirement already satisfied: MarkupSafe>=2.0 in /usr/local/lib/python3.11/dist-packages (from jinja2->streamlit-folium) (3.0.2)\n",
            "Requirement already satisfied: altair<6,>=4.0 in /usr/local/lib/python3.11/dist-packages (from streamlit>=1.35.0->streamlit-folium) (5.5.0)\n",
            "Requirement already satisfied: blinker<2,>=1.5.0 in /usr/local/lib/python3.11/dist-packages (from streamlit>=1.35.0->streamlit-folium) (1.9.0)\n",
            "Requirement already satisfied: cachetools<6,>=4.0 in /usr/local/lib/python3.11/dist-packages (from streamlit>=1.35.0->streamlit-folium) (5.5.2)\n",
            "Requirement already satisfied: click<9,>=7.0 in /usr/local/lib/python3.11/dist-packages (from streamlit>=1.35.0->streamlit-folium) (8.2.1)\n",
            "Requirement already satisfied: packaging<25,>=20 in /usr/local/lib/python3.11/dist-packages (from streamlit>=1.35.0->streamlit-folium) (24.2)\n",
            "Requirement already satisfied: pandas<3,>=1.4.0 in /usr/local/lib/python3.11/dist-packages (from streamlit>=1.35.0->streamlit-folium) (2.2.2)\n",
            "Requirement already satisfied: pillow<12,>=7.1.0 in /usr/local/lib/python3.11/dist-packages (from streamlit>=1.35.0->streamlit-folium) (11.2.1)\n",
            "Requirement already satisfied: protobuf<7,>=3.20 in /usr/local/lib/python3.11/dist-packages (from streamlit>=1.35.0->streamlit-folium) (5.29.4)\n",
            "Requirement already satisfied: pyarrow>=7.0 in /usr/local/lib/python3.11/dist-packages (from streamlit>=1.35.0->streamlit-folium) (18.1.0)\n",
            "Requirement already satisfied: tenacity<10,>=8.1.0 in /usr/local/lib/python3.11/dist-packages (from streamlit>=1.35.0->streamlit-folium) (9.1.2)\n",
            "Requirement already satisfied: toml<2,>=0.10.1 in /usr/local/lib/python3.11/dist-packages (from streamlit>=1.35.0->streamlit-folium) (0.10.2)\n",
            "Requirement already satisfied: typing-extensions<5,>=4.4.0 in /usr/local/lib/python3.11/dist-packages (from streamlit>=1.35.0->streamlit-folium) (4.13.2)\n",
            "Requirement already satisfied: watchdog<7,>=2.1.5 in /usr/local/lib/python3.11/dist-packages (from streamlit>=1.35.0->streamlit-folium) (6.0.0)\n",
            "Requirement already satisfied: gitpython!=3.1.19,<4,>=3.0.7 in /usr/local/lib/python3.11/dist-packages (from streamlit>=1.35.0->streamlit-folium) (3.1.44)\n",
            "Requirement already satisfied: pydeck<1,>=0.8.0b4 in /usr/local/lib/python3.11/dist-packages (from streamlit>=1.35.0->streamlit-folium) (0.9.1)\n",
            "Requirement already satisfied: tornado<7,>=6.0.3 in /usr/local/lib/python3.11/dist-packages (from streamlit>=1.35.0->streamlit-folium) (6.4.2)\n",
            "Requirement already satisfied: charset-normalizer<4,>=2 in /usr/local/lib/python3.11/dist-packages (from requests->folium) (3.4.2)\n",
            "Requirement already satisfied: idna<4,>=2.5 in /usr/local/lib/python3.11/dist-packages (from requests->folium) (3.10)\n",
            "Requirement already satisfied: urllib3<3,>=1.21.1 in /usr/local/lib/python3.11/dist-packages (from requests->folium) (2.4.0)\n",
            "Requirement already satisfied: certifi>=2017.4.17 in /usr/local/lib/python3.11/dist-packages (from requests->folium) (2025.4.26)\n",
            "Requirement already satisfied: jsonschema>=3.0 in /usr/local/lib/python3.11/dist-packages (from altair<6,>=4.0->streamlit>=1.35.0->streamlit-folium) (4.23.0)\n",
            "Requirement already satisfied: narwhals>=1.14.2 in /usr/local/lib/python3.11/dist-packages (from altair<6,>=4.0->streamlit>=1.35.0->streamlit-folium) (1.40.0)\n",
            "Requirement already satisfied: gitdb<5,>=4.0.1 in /usr/local/lib/python3.11/dist-packages (from gitpython!=3.1.19,<4,>=3.0.7->streamlit>=1.35.0->streamlit-folium) (4.0.12)\n",
            "Requirement already satisfied: python-dateutil>=2.8.2 in /usr/local/lib/python3.11/dist-packages (from pandas<3,>=1.4.0->streamlit>=1.35.0->streamlit-folium) (2.9.0.post0)\n",
            "Requirement already satisfied: pytz>=2020.1 in /usr/local/lib/python3.11/dist-packages (from pandas<3,>=1.4.0->streamlit>=1.35.0->streamlit-folium) (2025.2)\n",
            "Requirement already satisfied: tzdata>=2022.7 in /usr/local/lib/python3.11/dist-packages (from pandas<3,>=1.4.0->streamlit>=1.35.0->streamlit-folium) (2025.2)\n",
            "Requirement already satisfied: smmap<6,>=3.0.1 in /usr/local/lib/python3.11/dist-packages (from gitdb<5,>=4.0.1->gitpython!=3.1.19,<4,>=3.0.7->streamlit>=1.35.0->streamlit-folium) (5.0.2)\n",
            "Requirement already satisfied: attrs>=22.2.0 in /usr/local/lib/python3.11/dist-packages (from jsonschema>=3.0->altair<6,>=4.0->streamlit>=1.35.0->streamlit-folium) (25.3.0)\n",
            "Requirement already satisfied: jsonschema-specifications>=2023.03.6 in /usr/local/lib/python3.11/dist-packages (from jsonschema>=3.0->altair<6,>=4.0->streamlit>=1.35.0->streamlit-folium) (2025.4.1)\n",
            "Requirement already satisfied: referencing>=0.28.4 in /usr/local/lib/python3.11/dist-packages (from jsonschema>=3.0->altair<6,>=4.0->streamlit>=1.35.0->streamlit-folium) (0.36.2)\n",
            "Requirement already satisfied: rpds-py>=0.7.1 in /usr/local/lib/python3.11/dist-packages (from jsonschema>=3.0->altair<6,>=4.0->streamlit>=1.35.0->streamlit-folium) (0.25.1)\n",
            "Requirement already satisfied: six>=1.5 in /usr/local/lib/python3.11/dist-packages (from python-dateutil>=2.8.2->pandas<3,>=1.4.0->streamlit>=1.35.0->streamlit-folium) (1.17.0)\n"
          ]
        }
      ]
    },
    {
      "cell_type": "code",
      "source": [
        "# Simpan file app.py\n",
        "with open(\"app.py\", \"w\") as f:\n",
        "    f.write('''\n",
        "import streamlit as st\n",
        "import requests\n",
        "import folium\n",
        "from streamlit_folium import st_folium\n",
        "from geopy.geocoders import Nominatim\n",
        "\n",
        "st.set_page_config(page_title=\"Dashboard Cuaca & Tanah\", layout=\"centered\")\n",
        "st.title(\"🌦️ Cuaca & 🧪 Tanah Berdasarkan Lokasi\")\n",
        "\n",
        "API_KEY = \"d4179fb703532ad460882dd59234d867\"  # Ganti dengan API key kamu\n",
        "\n",
        "# Fungsi ambil koordinat dari kota\n",
        "def get_coords_from_city(city_name):\n",
        "    geolocator = Nominatim(user_agent=\"soil_data_colab\")\n",
        "    location = geolocator.geocode(city_name)\n",
        "    if location:\n",
        "        return location.latitude, location.longitude\n",
        "    return None, None\n",
        "\n",
        "# Fungsi cuaca dari OpenWeather\n",
        "def get_forecast_summary(lat, lon, api_key):\n",
        "    url = f\"http://api.openweathermap.org/data/2.5/forecast?lat={lat}&lon={lon}&appid={api_key}&units=metric\"\n",
        "    response = requests.get(url)\n",
        "    if response.status_code != 200:\n",
        "        return None\n",
        "    data = response.json()\n",
        "    temps, humidities, rainfalls = [], [], []\n",
        "    for entry in data[\"list\"]:\n",
        "        temps.append(entry['main']['temp'])\n",
        "        humidities.append(entry['main']['humidity'])\n",
        "        rain = entry.get('rain', {}).get('3h', 0)\n",
        "        rainfalls.append(rain)\n",
        "    return {\n",
        "        \"Rata-rata Suhu (°C)\": round(sum(temps) / len(temps), 2),\n",
        "        \"Rata-rata Kelembapan (%)\": round(sum(humidities) / len(humidities), 2),\n",
        "        \"Rata-rata Curah Hujan (mm/3 jam)\": round(sum(rainfalls) / len(rainfalls), 2)\n",
        "    }\n",
        "\n",
        "# Fungsi SoilGrids\n",
        "def get_soil_data(lat, lon):\n",
        "    base_url = \"https://rest.isric.org/soilgrids/v2.0/properties/query\"\n",
        "    def get_value(prop):\n",
        "        params = {\n",
        "            \"property\": prop,\n",
        "            \"depth\": \"0-5cm\",\n",
        "            \"value\": \"mean\",\n",
        "            \"lat\": lat,\n",
        "            \"lon\": lon\n",
        "        }\n",
        "        r = requests.get(base_url, params=params)\n",
        "        if r.status_code == 200:\n",
        "            try:\n",
        "                val = r.json()[\"properties\"][\"layers\"][0][\"depths\"][0][\"values\"][\"mean\"]\n",
        "                return val / 10.0 if prop == \"phh2o\" else val\n",
        "            except:\n",
        "                return None\n",
        "        return None\n",
        "    return {\n",
        "        \"pH Tanah (0–5cm)\": get_value(\"phh2o\"),\n",
        "        \"Nitrogen (cg/kg)\": get_value(\"nitrogen\")\n",
        "    }\n",
        "\n",
        "# Input kota\n",
        "city = st.text_input(\"Masukkan nama kota (Contoh: Bandung)\")\n",
        "\n",
        "lat, lon = None, None\n",
        "if city:\n",
        "    lat, lon = get_coords_from_city(city)\n",
        "    if lat:\n",
        "        st.success(f\"Koordinat: ({lat:.2f}, {lon:.2f})\")\n",
        "\n",
        "# Peta interaktif\n",
        "st.divider()\n",
        "st.subheader(\"🗺️ Klik lokasi di peta (opsional)\")\n",
        "m = folium.Map(location=[-2.5, 118], zoom_start=5)\n",
        "folium.LatLngPopup().add_to(m)\n",
        "map_data = st_folium(m, width=700, height=500)\n",
        "\n",
        "if map_data and map_data.get(\"last_clicked\"):\n",
        "    lat = map_data[\"last_clicked\"][\"lat\"]\n",
        "    lon = map_data[\"last_clicked\"][\"lng\"]\n",
        "    st.success(f\"Koordinat dipilih: ({lat:.2f}, {lon:.2f})\")\n",
        "\n",
        "if lat and lon:\n",
        "    # Tampilkan ringkasan cuaca\n",
        "    st.subheader(\"🌦️ Ringkasan Cuaca\")\n",
        "    cuaca = get_forecast_summary(lat, lon, API_KEY)\n",
        "    if cuaca:\n",
        "        for k, v in cuaca.items():\n",
        "            st.write(f\"✅ **{k}:** {v}\")\n",
        "    else:\n",
        "        st.error(\"Gagal mendapatkan data cuaca.\")\n",
        "\n",
        "    # Tampilkan data tanah\n",
        "    st.subheader(\"🧪 Data Tanah (SoilGrids)\")\n",
        "    tanah = get_soil_data(lat, lon)\n",
        "    for k, v in tanah.items():\n",
        "        if v is not None:\n",
        "            st.write(f\"✅ **{k}:** {v}\")\n",
        "        else:\n",
        "            st.warning(f\"❌ {k} tidak tersedia.\")\n",
        "''')"
      ],
      "metadata": {
        "id": "ZlPpC27bZK_9"
      },
      "execution_count": 17,
      "outputs": []
    },
    {
      "cell_type": "code",
      "source": [
        "from pyngrok import conf, ngrok\n",
        "\n",
        "# Masukkan token ngrok kamu di sini\n",
        "ngrok.set_auth_token(\"2xH5SFTP0InDNxn9Xe9IHmD49q8_3avvKtEwLivdV5NvZJzfQ\")\n"
      ],
      "metadata": {
        "id": "-9vUB3S4bTLi"
      },
      "execution_count": 15,
      "outputs": []
    },
    {
      "cell_type": "code",
      "source": [
        "!streamlit run app.py &>/content/log.txt &\n",
        "\n",
        "# Hubungkan ke port 8501\n",
        "public_url = ngrok.connect(addr=\"http://localhost:8501\")\n",
        "print(\"Akses aplikasi Anda di:\", public_url)\n"
      ],
      "metadata": {
        "colab": {
          "base_uri": "https://localhost:8080/"
        },
        "id": "gqtoFRsCbuzl",
        "outputId": "0b7e9944-b3b2-49da-b03b-6b4a83236b96"
      },
      "execution_count": 16,
      "outputs": [
        {
          "output_type": "stream",
          "name": "stdout",
          "text": [
            "Akses aplikasi Anda di: NgrokTunnel: \"https://45a4-34-10-191-54.ngrok-free.app\" -> \"http://localhost:8501\"\n"
          ]
        }
      ]
    }
  ]
}